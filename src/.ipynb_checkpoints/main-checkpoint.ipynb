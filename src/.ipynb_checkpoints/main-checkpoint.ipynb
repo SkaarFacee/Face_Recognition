{
 "cells": [
  {
   "cell_type": "code",
   "execution_count": 6,
   "id": "8261f1a6",
   "metadata": {},
   "outputs": [],
   "source": [
    "%matplotlib inline\n",
    "import numpy as np\n",
    "import matplotlib.pyplot as plt\n",
    "from sklearn.model_selection import train_test_split\n",
    "from IPython.core.interactiveshell import InteractiveShell\n",
    "from sklearn.metrics import accuracy_score\n",
    "from hmmlearn import hmm\n",
    "\n",
    "from fetch import fetch_ORL_people\n",
    "InteractiveShell.ast_node_interactivity = \"all\"\n",
    "np.set_printoptions(precision=3)"
   ]
  },
  {
   "cell_type": "code",
   "execution_count": 7,
   "id": "24fed94c",
   "metadata": {},
   "outputs": [
    {
     "data": {
      "text/plain": [
       "dict_keys(['data', 'images', 'target', 'target_names'])"
      ]
     },
     "execution_count": 7,
     "metadata": {},
     "output_type": "execute_result"
    }
   ],
   "source": [
    "faces = fetch_ORL_people('../Data')\n",
    "faces.keys()"
   ]
  },
  {
   "cell_type": "code",
   "execution_count": 11,
   "id": "9c1b1f6e",
   "metadata": {},
   "outputs": [],
   "source": [
    "if random_split:\n",
    "    idx_train, idx_test = train_test_split(np.arange(faces.images.shape[0]), test_size=0.5, stratify=faces.target, random_state=None)\n",
    "else:\n",
    "    idx_train = np.tile([0,4,5,7,9], n_person)\n",
    "    idx_test = np.tile([1,2,3,6,8], n_person)\n",
    "    for i in range(n_person):\n",
    "        idx_train[i*5:i*5+5] += i*10\n",
    "        idx_test[i*5:i*5+5] += i*10\n",
    "\n",
    "train_faces = faces.images[idx_train]\n",
    "y_train = faces.target[idx_train]\n",
    "test_faces = faces.images[idx_test]\n",
    "y_test = faces.target[idx_test]"
   ]
  },
  {
   "cell_type": "code",
   "execution_count": 10,
   "id": "9ae61208",
   "metadata": {},
   "outputs": [],
   "source": [
    "coeff = np.array([18., 10., 7.])\n",
    "eps = 1e-6\n",
    "n_state = 7\n",
    "n_obs = 1260\n",
    "n_person = 40\n",
    "random_split = False"
   ]
  },
  {
   "cell_type": "code",
   "execution_count": 12,
   "id": "248cbc3a",
   "metadata": {},
   "outputs": [],
   "source": [
    "def split_block_cell_for_train(faces, n_blocks=52):\n",
    "    n_faces = faces.shape[0]\n",
    "    max_coeffs = np.array([-np.inf, -np.inf, -np.inf])\n",
    "    min_coeffs = np.array([np.inf, 0, 0])\n",
    "    block_cell = np.zeros(shape=(n_faces, n_blocks, 3))\n",
    "\n",
    "    for faces_index in range(n_faces):\n",
    "        img = faces[faces_index]\n",
    "        for block_index in range(n_blocks):\n",
    "            block = img[block_index:block_index + 5]\n",
    "            U, S, V = np.linalg.svd(block)\n",
    "            block_coeffs = np.array([U[0,0], S[0], S[1]])\n",
    "            min_coeffs = np.minimum(block_coeffs, min_coeffs)\n",
    "            max_coeffs = np.maximum(block_coeffs, max_coeffs)\n",
    "            block_cell[faces_index, block_index] = block_coeffs\n",
    "            \n",
    "    return min_coeffs, max_coeffs, block_cell"
   ]
  },
  {
   "cell_type": "code",
   "execution_count": 13,
   "id": "3eb89c83",
   "metadata": {},
   "outputs": [],
   "source": [
    "def split_block_cell_for_test(faces, min_coeffs, max_coeffs, n_blocks=52):\n",
    "    n_faces = faces.shape[0]\n",
    "    block_cell = np.zeros(shape=(n_faces, n_blocks, 3))\n",
    "    \n",
    "    for faces_index in range(n_faces):\n",
    "        img = faces[faces_index]\n",
    "        for block_index in range(n_blocks):\n",
    "            block = img[block_index:block_index + 5]\n",
    "            U, S, V = np.linalg.svd(block)\n",
    "            block_coeffs = np.array([U[0,0], S[0], S[1]])\n",
    "            block_coeffs = np.minimum(block_coeffs, max_coeffs)\n",
    "            block_coeffs = np.maximum(block_coeffs, min_coeffs)\n",
    "            block_cell[faces_index, block_index] = block_coeffs\n",
    "            \n",
    "    return block_cell"
   ]
  },
  {
   "cell_type": "code",
   "execution_count": 14,
   "id": "6c2ba14f",
   "metadata": {},
   "outputs": [],
   "source": [
    "def block_to_seq(block_cell, min_coeffs, delta):\n",
    "    n_faces, n_blocks, _ = block_cell.shape\n",
    "    seq_matrix = np.zeros(shape=(n_faces, n_blocks))\n",
    "    for faces_index in range(n_faces):\n",
    "        for block_index in range(n_blocks):\n",
    "            block_coeffs = block_cell[faces_index, block_index]\n",
    "            Q_t = np.floor((block_coeffs - min_coeffs) / delta)\n",
    "            label = Q_t[0]*10*7 + Q_t[1]*7 + Q_t[2]\n",
    "            seq_matrix[faces_index, block_index] = label\n",
    "    return seq_matrix"
   ]
  },
  {
   "cell_type": "code",
   "execution_count": 15,
   "id": "fbd9f71f",
   "metadata": {},
   "outputs": [],
   "source": [
    "min_coeffs, max_coeffs, train_block = split_block_cell_for_train(train_faces)\n",
    "delta = (max_coeffs - min_coeffs) / (coeff - eps)\n",
    "seq_train = block_to_seq(train_block, min_coeffs, delta)\n",
    "seq_train = seq_train.astype(np.int32)\n"
   ]
  },
  {
   "cell_type": "code",
   "execution_count": 16,
   "id": "a11bd98e",
   "metadata": {},
   "outputs": [],
   "source": [
    "test_block = split_block_cell_for_test(test_faces, min_coeffs, max_coeffs)\n",
    "seq_test = block_to_seq(test_block, min_coeffs, delta)\n",
    "seq_test = seq_test.astype(np.int32)"
   ]
  },
  {
   "cell_type": "code",
   "execution_count": 17,
   "id": "ecd17780",
   "metadata": {},
   "outputs": [
    {
     "name": "stdout",
     "output_type": "stream",
     "text": [
      "StartProb Shape (7,):\n",
      " [1. 0. 0. 0. 0. 0. 0.]\n",
      "Transmat Shape (7, 7):\n",
      " [[6.e-01 4.e-01 1.e-06 1.e-06 1.e-06 1.e-06 1.e-06]\n",
      " [1.e-06 6.e-01 4.e-01 1.e-06 1.e-06 1.e-06 1.e-06]\n",
      " [1.e-06 1.e-06 6.e-01 4.e-01 1.e-06 1.e-06 1.e-06]\n",
      " [1.e-06 1.e-06 1.e-06 6.e-01 4.e-01 1.e-06 1.e-06]\n",
      " [1.e-06 1.e-06 1.e-06 1.e-06 6.e-01 4.e-01 1.e-06]\n",
      " [1.e-06 1.e-06 1.e-06 1.e-06 1.e-06 6.e-01 4.e-01]\n",
      " [1.e-06 1.e-06 1.e-06 1.e-06 1.e-06 1.e-06 1.e+00]]\n",
      "Emissionprob Shape (7, 1260):\n",
      " [[0.001 0.001 0.001 ... 0.001 0.001 0.001]\n",
      " [0.001 0.001 0.001 ... 0.001 0.001 0.001]\n",
      " [0.001 0.001 0.001 ... 0.001 0.001 0.001]\n",
      " ...\n",
      " [0.001 0.001 0.001 ... 0.001 0.001 0.001]\n",
      " [0.001 0.001 0.001 ... 0.001 0.001 0.001]\n",
      " [0.001 0.001 0.001 ... 0.001 0.001 0.001]]\n"
     ]
    }
   ],
   "source": [
    "startprob = np.zeros(n_state)\n",
    "startprob[0] = 1.\n",
    "\n",
    "transmat = np.zeros([n_state, n_state]) + eps\n",
    "transmat[-1, -1] = 1.\n",
    "for i in range(n_state-1):\n",
    "    transmat[i, i] = 0.6\n",
    "    transmat[i, i+1] = 0.4\n",
    "\n",
    "transmat /= transmat.sum(1, keepdims=True)\n",
    "emissionprob = np.ones([n_state, n_obs]) / n_obs\n",
    "\n",
    "\n",
    "print(f'StartProb Shape {startprob.shape}:\\n {startprob}')\n",
    "print(f'Transmat Shape {transmat.shape}:\\n {transmat}')\n",
    "print(f'Emissionprob Shape {emissionprob.shape}:\\n {emissionprob}')"
   ]
  },
  {
   "cell_type": "code",
   "execution_count": 18,
   "id": "924eb686",
   "metadata": {},
   "outputs": [],
   "source": [
    "models = [hmm.MultinomialHMM(n_components=n_state, tol=1e-2, n_iter=5, init_params='') for _ in range(n_person)]\n",
    "for model in models:\n",
    "    model.startprob_ = startprob\n",
    "    model.transmat_ = transmat\n",
    "    model.emissionprob_ = emissionprob\n",
    "    model.n_features = n_obs"
   ]
  },
  {
   "cell_type": "code",
   "execution_count": 24,
   "id": "c9e60495",
   "metadata": {},
   "outputs": [
    {
     "ename": "ValueError",
     "evalue": "Found array with 0 feature(s) (shape=(52, 0)) while a minimum of 1 is required.",
     "output_type": "error",
     "traceback": [
      "\u001b[0;31m---------------------------------------------------------------------------\u001b[0m",
      "\u001b[0;31mValueError\u001b[0m                                Traceback (most recent call last)",
      "\u001b[0;32m<timed exec>\u001b[0m in \u001b[0;36m<module>\u001b[0;34m\u001b[0m\n",
      "\u001b[0;32m~/.local/lib/python3.8/site-packages/hmmlearn/hmm.py\u001b[0m in \u001b[0;36m<lambda>\u001b[0;34m(*args, **kwargs)\u001b[0m\n\u001b[1;32m    323\u001b[0m     \u001b[0;32melse\u001b[0m\u001b[0;34m:\u001b[0m\u001b[0;34m\u001b[0m\u001b[0;34m\u001b[0m\u001b[0m\n\u001b[1;32m    324\u001b[0m         wrapper = functools.wraps(func)(\n\u001b[0;32m--> 325\u001b[0;31m             lambda *args, **kwargs: func(*args, **kwargs))\n\u001b[0m\u001b[1;32m    326\u001b[0m         wrapper.__doc__ = (\n\u001b[1;32m    327\u001b[0m             \u001b[0mdoc\u001b[0m\u001b[0;34m.\u001b[0m\u001b[0mreplace\u001b[0m\u001b[0;34m(\u001b[0m\u001b[0;34m\"(n_samples, n_features)\"\u001b[0m\u001b[0;34m,\u001b[0m \u001b[0;34m\"(n_samples, 1)\"\u001b[0m\u001b[0;34m)\u001b[0m\u001b[0;34m\u001b[0m\u001b[0;34m\u001b[0m\u001b[0m\n",
      "\u001b[0;32m~/.local/lib/python3.8/site-packages/hmmlearn/base.py\u001b[0m in \u001b[0;36mfit\u001b[0;34m(self, X, lengths)\u001b[0m\n\u001b[1;32m    438\u001b[0m             \u001b[0mReturns\u001b[0m \u001b[0mself\u001b[0m\u001b[0;34m.\u001b[0m\u001b[0;34m\u001b[0m\u001b[0;34m\u001b[0m\u001b[0m\n\u001b[1;32m    439\u001b[0m         \"\"\"\n\u001b[0;32m--> 440\u001b[0;31m         \u001b[0mX\u001b[0m \u001b[0;34m=\u001b[0m \u001b[0mcheck_array\u001b[0m\u001b[0;34m(\u001b[0m\u001b[0mX\u001b[0m\u001b[0;34m)\u001b[0m\u001b[0;34m\u001b[0m\u001b[0;34m\u001b[0m\u001b[0m\n\u001b[0m\u001b[1;32m    441\u001b[0m         \u001b[0mself\u001b[0m\u001b[0;34m.\u001b[0m\u001b[0m_init\u001b[0m\u001b[0;34m(\u001b[0m\u001b[0mX\u001b[0m\u001b[0;34m,\u001b[0m \u001b[0mlengths\u001b[0m\u001b[0;34m=\u001b[0m\u001b[0mlengths\u001b[0m\u001b[0;34m)\u001b[0m\u001b[0;34m\u001b[0m\u001b[0;34m\u001b[0m\u001b[0m\n\u001b[1;32m    442\u001b[0m         \u001b[0mself\u001b[0m\u001b[0;34m.\u001b[0m\u001b[0m_check\u001b[0m\u001b[0;34m(\u001b[0m\u001b[0;34m)\u001b[0m\u001b[0;34m\u001b[0m\u001b[0;34m\u001b[0m\u001b[0m\n",
      "\u001b[0;32m~/.local/lib/python3.8/site-packages/sklearn/utils/validation.py\u001b[0m in \u001b[0;36mcheck_array\u001b[0;34m(array, accept_sparse, accept_large_sparse, dtype, order, copy, force_all_finite, ensure_2d, allow_nd, ensure_min_samples, ensure_min_features, estimator)\u001b[0m\n\u001b[1;32m    804\u001b[0m         \u001b[0mn_features\u001b[0m \u001b[0;34m=\u001b[0m \u001b[0marray\u001b[0m\u001b[0;34m.\u001b[0m\u001b[0mshape\u001b[0m\u001b[0;34m[\u001b[0m\u001b[0;36m1\u001b[0m\u001b[0;34m]\u001b[0m\u001b[0;34m\u001b[0m\u001b[0;34m\u001b[0m\u001b[0m\n\u001b[1;32m    805\u001b[0m         \u001b[0;32mif\u001b[0m \u001b[0mn_features\u001b[0m \u001b[0;34m<\u001b[0m \u001b[0mensure_min_features\u001b[0m\u001b[0;34m:\u001b[0m\u001b[0;34m\u001b[0m\u001b[0;34m\u001b[0m\u001b[0m\n\u001b[0;32m--> 806\u001b[0;31m             raise ValueError(\n\u001b[0m\u001b[1;32m    807\u001b[0m                 \u001b[0;34m\"Found array with %d feature(s) (shape=%s) while\"\u001b[0m\u001b[0;34m\u001b[0m\u001b[0;34m\u001b[0m\u001b[0m\n\u001b[1;32m    808\u001b[0m                 \u001b[0;34m\" a minimum of %d is required%s.\"\u001b[0m\u001b[0;34m\u001b[0m\u001b[0;34m\u001b[0m\u001b[0m\n",
      "\u001b[0;31mValueError\u001b[0m: Found array with 0 feature(s) (shape=(52, 0)) while a minimum of 1 is required."
     ]
    }
   ],
   "source": [
    "%%time\n",
    "for person_idx, model in enumerate(models):\n",
    "    seq_idx = np.where(y_train==person_idx)[0]\n",
    "    obs = seq_train[seq_idx]\n",
    "    model.fit(obs.T)"
   ]
  },
  {
   "cell_type": "code",
   "execution_count": null,
   "id": "2c32adea",
   "metadata": {},
   "outputs": [],
   "source": [
    "%%time\n",
    "logprob = np.zeros((y_test.size, n_person))\n",
    "for seq_idx, obs in enumerate(seq_test):\n",
    "    for person_idx, model in enumerate(models):\n",
    "        logprob[seq_idx, person_idx] = model.score(np.atleast_2d(obs))"
   ]
  },
  {
   "cell_type": "code",
   "execution_count": 23,
   "id": "2e5ac3f1",
   "metadata": {},
   "outputs": [],
   "source": []
  },
  {
   "cell_type": "code",
   "execution_count": null,
   "id": "d4f22708",
   "metadata": {},
   "outputs": [],
   "source": []
  }
 ],
 "metadata": {
  "kernelspec": {
   "display_name": "Python 3 (ipykernel)",
   "language": "python",
   "name": "python3"
  },
  "language_info": {
   "codemirror_mode": {
    "name": "ipython",
    "version": 3
   },
   "file_extension": ".py",
   "mimetype": "text/x-python",
   "name": "python",
   "nbconvert_exporter": "python",
   "pygments_lexer": "ipython3",
   "version": "3.8.10"
  }
 },
 "nbformat": 4,
 "nbformat_minor": 5
}
