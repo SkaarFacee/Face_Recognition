{
  "nbformat": 4,
  "nbformat_minor": 0,
  "metadata": {
    "colab": {
      "name": "Decision Trees Classifier.ipynb",
      "provenance": []
    },
    "kernelspec": {
      "name": "python3",
      "display_name": "Python 3"
    },
    "language_info": {
      "name": "python"
    }
  },
  "cells": [
    {
      "cell_type": "code",
      "execution_count": 1,
      "metadata": {
        "colab": {
          "base_uri": "https://localhost:8080/"
        },
        "id": "PQbQY5SWSMtH",
        "outputId": "48e70173-a966-4c9f-d823-01f743572b75"
      },
      "outputs": [
        {
          "output_type": "stream",
          "name": "stdout",
          "text": [
            "Mounted at /content/drive\n"
          ]
        }
      ],
      "source": [
        "from google.colab import drive\n",
        "drive.mount('/content/drive')"
      ]
    },
    {
      "cell_type": "code",
      "source": [
        "# Import Metrics, Classifier and Graphing Packages\n",
        "from sklearn.metrics import accuracy_score, confusion_matrix, precision_score, recall_score, f1_score, classification_report\n",
        "from sklearn.tree import DecisionTreeClassifier\n",
        "from sklearn.model_selection import train_test_split, cross_val_score, GridSearchCV\n",
        "\n",
        "import seaborn as sns # for confusion matrix\n",
        "import pandas as pd\n",
        "import numpy as np\n",
        "import matplotlib.pyplot as plt # to plot image, graph\n",
        "\n",
        "import pickle\n",
        "import time # for computation time assessment\n",
        "%matplotlib inline"
      ],
      "metadata": {
        "id": "7sFQ4KydSkkj"
      },
      "execution_count": 2,
      "outputs": []
    },
    {
      "cell_type": "code",
      "source": [
        "x_path = '/content/drive/MyDrive/Data/X.pickle'\n",
        "y_path = '/content/drive/MyDrive/Data/y.pickle'\n",
        "\n",
        "X = pickle.load(open(x_path, 'rb'))\n",
        "y = pickle.load(open(y_path, 'rb'))\n",
        "\n",
        "\n",
        "pickle_in = open(\"/content/drive/MyDrive/Data/data.pickle\", \"rb\")\n",
        "data = pickle.load(pickle_in) # 2-D Feature Set, Data matrix will serve as X\n"
      ],
      "metadata": {
        "id": "-NZgxve_SlEn"
      },
      "execution_count": 3,
      "outputs": []
    },
    {
      "cell_type": "code",
      "source": [
        "print('# of Samples:', len(y))\n",
        "print('# of Without A Mask:', (y == 0).sum())\n",
        "print('# of Incorrectly Worn Mask:', (y == 1).sum())\n",
        "print('# of With A Mask:', (y == 2).sum())"
      ],
      "metadata": {
        "colab": {
          "base_uri": "https://localhost:8080/"
        },
        "id": "V6T4j2GRTLKT",
        "outputId": "70cd08e7-20e3-4b2b-9e77-683f6ffc2cb4"
      },
      "execution_count": 4,
      "outputs": [
        {
          "output_type": "stream",
          "name": "stdout",
          "text": [
            "# of Samples: 17529\n",
            "# of Without A Mask: 5909\n",
            "# of Incorrectly Worn Mask: 5737\n",
            "# of With A Mask: 5883\n"
          ]
        }
      ]
    },
    {
      "cell_type": "code",
      "source": [
        "cols = []\n",
        "for i in range(0, len(data[0])):\n",
        "    cols.append(\"P\" + str(i))\n",
        "\n",
        "# Convert to Dataframe\n",
        "numpy_data = data\n",
        "X = pd.DataFrame(data=numpy_data, columns=[cols])\n",
        "print(X.head())\n",
        "\n",
        "y = pd.DataFrame(data=y, columns=[\"Mask_Target\"])\n",
        "print(y.head())"
      ],
      "metadata": {
        "colab": {
          "base_uri": "https://localhost:8080/"
        },
        "id": "JoPDuw5UTOFK",
        "outputId": "3f1d4d06-9889-4c14-adfe-db22a3e2af9c"
      },
      "execution_count": 5,
      "outputs": [
        {
          "output_type": "stream",
          "name": "stdout",
          "text": [
            "    P0   P1   P2   P3   P4   P5   P6  ... P4089 P4090 P4091 P4092 P4093 P4094 P4095\n",
            "0  253  252  253  253  250  248  249  ...   115   102   110   106   103   108   107\n",
            "1  205  195  202  136   76   77   56  ...    43    42    35    39    43    41    32\n",
            "2   97   97   96   96   93   94   97  ...    61    59    66    77    80    83    80\n",
            "3   72   69   71   70   70   74   79  ...    71    64    60    41    29    49    72\n",
            "4   69   59   67   76   85   86   85  ...   217   213   206   207   189    98    43\n",
            "\n",
            "[5 rows x 4096 columns]\n",
            "   Mask_Target\n",
            "0            0\n",
            "1            0\n",
            "2            0\n",
            "3            0\n",
            "4            0\n"
          ]
        }
      ]
    },
    {
      "cell_type": "code",
      "source": [
        "\n",
        "print('\\nImage Data Shape:', X.shape) # Feature sets are 64X64 images flatten to a 4096 feature vector\n",
        "print('Image Data Shape Features:', data.shape)\n",
        "print('Image Data Shape Target:', y.shape)"
      ],
      "metadata": {
        "colab": {
          "base_uri": "https://localhost:8080/"
        },
        "id": "IFx1nD1WTP1l",
        "outputId": "50bcafa8-3de4-47de-e170-d9968f6fc8e2"
      },
      "execution_count": 6,
      "outputs": [
        {
          "output_type": "stream",
          "name": "stdout",
          "text": [
            "\n",
            "Image Data Shape: (17529, 4096)\n",
            "Image Data Shape Features: (17529, 4096)\n",
            "Image Data Shape Target: (17529, 1)\n"
          ]
        }
      ]
    },
    {
      "cell_type": "code",
      "source": [
        "# Normalize the pixel values\n",
        "X = X / 255.0"
      ],
      "metadata": {
        "id": "vbxaknjoTdFt"
      },
      "execution_count": 7,
      "outputs": []
    },
    {
      "cell_type": "code",
      "source": [
        "# Split our data into testing and training.\n",
        "X_train, X_test, y_train, y_test = train_test_split(X, y, test_size=0.2, random_state=45)\n",
        "\n",
        "# Print the length and width of our testing data.\n",
        "print('Length of our Training data: ', len(X_train), '\\nLength of our Testing data: ', len(X_test))"
      ],
      "metadata": {
        "colab": {
          "base_uri": "https://localhost:8080/"
        },
        "id": "EN-DqB1qTetq",
        "outputId": "f5490505-67d8-41e2-82b2-92d9ada94ee7"
      },
      "execution_count": 8,
      "outputs": [
        {
          "output_type": "stream",
          "name": "stdout",
          "text": [
            "Length of our Training data:  14023 \n",
            "Length of our Testing data:  3506\n"
          ]
        }
      ]
    },
    {
      "cell_type": "code",
      "source": [
        "# Initialize Decision Trees model, No hyperparameter Tuning\n",
        "decision_trees = DecisionTreeClassifier()\n",
        "\n",
        "# Use training data to fit Decision Trees model\n",
        "decision_trees.fit(X_train, y_train.values.ravel())\n",
        "\n",
        "# Predict Train Data Labels\n",
        "predictions_set = decision_trees.predict(X_test)"
      ],
      "metadata": {
        "colab": {
          "base_uri": "https://localhost:8080/"
        },
        "id": "9NSxvGg5ThCs",
        "outputId": "3da5efcb-052b-4ebb-c1b1-8f02444897c5"
      },
      "execution_count": 9,
      "outputs": [
        {
          "output_type": "stream",
          "name": "stderr",
          "text": [
            "/usr/local/lib/python3.7/dist-packages/sklearn/utils/validation.py:1679: FutureWarning: Feature names only support names that are all strings. Got feature names with dtypes: ['tuple']. An error will be raised in 1.2.\n",
            "  FutureWarning,\n",
            "/usr/local/lib/python3.7/dist-packages/sklearn/utils/validation.py:1679: FutureWarning: Feature names only support names that are all strings. Got feature names with dtypes: ['tuple']. An error will be raised in 1.2.\n",
            "  FutureWarning,\n"
          ]
        }
      ]
    },
    {
      "cell_type": "code",
      "source": [
        "predictions_set1 = decision_trees.predict(X_test)"
      ],
      "metadata": {
        "colab": {
          "base_uri": "https://localhost:8080/"
        },
        "id": "SmQCgcnFTisY",
        "outputId": "1e633e10-975e-4da9-d2ac-89b743579d0c"
      },
      "execution_count": 14,
      "outputs": [
        {
          "output_type": "stream",
          "name": "stderr",
          "text": [
            "/usr/local/lib/python3.7/dist-packages/sklearn/utils/validation.py:1679: FutureWarning: Feature names only support names that are all strings. Got feature names with dtypes: ['tuple']. An error will be raised in 1.2.\n",
            "  FutureWarning,\n"
          ]
        }
      ]
    },
    {
      "cell_type": "code",
      "source": [
        "# Save Predictions in a pickle\n",
        "pickle_out = open(\"predictions_set1.pickle\", \"wb\")\n",
        "pickle.dump(predictions_set1, pickle_out)\n",
        "pickle_out.close()"
      ],
      "metadata": {
        "id": "gdXTVojKTj8k"
      },
      "execution_count": 15,
      "outputs": []
    },
    {
      "cell_type": "code",
      "source": [
        "cm = confusion_matrix(y_test, predictions_set)\n",
        "\n",
        "plt.figure(figsize=(9,9))\n",
        "# Heatmap visualization of accuracy\n",
        "sns.heatmap(cm,annot=True, fmt='.3f', linewidths=.5, square=True,cmap='Blues_r')\n",
        "plt.ylabel('Actual label')\n",
        "plt.xlabel('Predicted label')\n",
        "title = 'Accuracy Score, No Hyperparameter Tuning: {0}'.format(accuracy_score(y_test, predictions_set))\n",
        "plt.title(title,size=15)"
      ],
      "metadata": {
        "colab": {
          "base_uri": "https://localhost:8080/",
          "height": 540
        },
        "id": "qpcW-BJJTlIY",
        "outputId": "64369e7b-c059-4926-f98e-9a10958ce79a"
      },
      "execution_count": 16,
      "outputs": [
        {
          "output_type": "execute_result",
          "data": {
            "text/plain": [
              "Text(0.5, 1.0, 'Accuracy Score, No Hyperparameter Tuning: 0.8183114660581859')"
            ]
          },
          "metadata": {},
          "execution_count": 16
        },
        {
          "output_type": "display_data",
          "data": {
            "image/png": "[encoded data removed]",
            "text/plain": [
              "<Figure size 648x648 with 2 Axes>"
            ]
          },
          "metadata": {
            "needs_background": "light"
          }
        }
      ]
    },
    {
      "cell_type": "code",
      "source": [
        "print('Decision Trees Precision: %.3f' % precision_score(y_test, predictions_set1, average='micro'))\n",
        "print('Decision Trees Recall: %.3f' % recall_score(y_test, predictions_set1, average='micro'))\n",
        "print('Decision Trees F1 Score: %.3f' % f1_score(y_test, predictions_set1, average='micro'))"
      ],
      "metadata": {
        "colab": {
          "base_uri": "https://localhost:8080/"
        },
        "id": "N7Scx1ruT0pW",
        "outputId": "d0923ba7-2600-4191-f85a-7773c1d5eaeb"
      },
      "execution_count": 18,
      "outputs": [
        {
          "output_type": "stream",
          "name": "stdout",
          "text": [
            "Decision Trees Precision: 0.818\n",
            "Decision Trees Recall: 0.818\n",
            "Decision Trees F1 Score: 0.818\n"
          ]
        }
      ]
    },
    {
      "cell_type": "code",
      "source": [
        "print(\"\\nClassification Report\\n\", classification_report(y_test, predictions_set1))"
      ],
      "metadata": {
        "colab": {
          "base_uri": "https://localhost:8080/"
        },
        "id": "EZSRgPdIzAp5",
        "outputId": "5f3dda7f-df68-4e98-f34d-aa09a134da7e"
      },
      "execution_count": 19,
      "outputs": [
        {
          "output_type": "stream",
          "name": "stdout",
          "text": [
            "\n",
            "Classification Report\n",
            "               precision    recall  f1-score   support\n",
            "\n",
            "           0       0.79      0.81      0.80      1159\n",
            "           1       0.91      0.89      0.90      1128\n",
            "           2       0.76      0.76      0.76      1219\n",
            "\n",
            "    accuracy                           0.82      3506\n",
            "   macro avg       0.82      0.82      0.82      3506\n",
            "weighted avg       0.82      0.82      0.82      3506\n",
            "\n"
          ]
        }
      ]
    },
    {
      "cell_type": "code",
      "source": [
        "best_max_depth = 10\n",
        "best_max_feature = 1138\n",
        "best_min_samples_split = 0.1 # consider also excluding due to underperformance in parameter exploration\n",
        "\n",
        "dt = DecisionTreeClassifier(max_features=best_max_feature, max_depth=10, min_samples_split=best_min_samples_split)\n",
        "dt.fit(X_train, y_train)\n",
        "train_pred = dt.predict(X_train)\n",
        "y_pred = dt.predict(X_test)\n",
        "\n",
        "print(\"For max feature:\", best_max_feature, \", max_depth:\", best_max_depth, \", min samples_split:\", best_min_samples_split)\n",
        "print('===== Accuracy Train: %.3f' % accuracy_score(y_train, train_pred))\n",
        "print('===== Accuracy Test: %.3f' % accuracy_score(y_test, y_pred))\n",
        "print(\"\\nClassification Report\\n\", classification_report(y_test, y_pred))"
      ],
      "metadata": {
        "colab": {
          "base_uri": "https://localhost:8080/"
        },
        "id": "XSUJzX35TnYo",
        "outputId": "1d83850a-d61e-4070-9c58-9c626d843b39"
      },
      "execution_count": 17,
      "outputs": [
        {
          "output_type": "stream",
          "name": "stderr",
          "text": [
            "/usr/local/lib/python3.7/dist-packages/sklearn/utils/validation.py:1679: FutureWarning: Feature names only support names that are all strings. Got feature names with dtypes: ['tuple']. An error will be raised in 1.2.\n",
            "  FutureWarning,\n"
          ]
        },
        {
          "output_type": "stream",
          "name": "stdout",
          "text": [
            "For max feature: 1138 , max_depth: 10 , min samples_split: 0.1\n",
            "===== Accuracy Train: 0.774\n",
            "===== Accuracy Test: 0.755\n",
            "\n",
            "Classification Report\n",
            "               precision    recall  f1-score   support\n",
            "\n",
            "           0       0.72      0.80      0.76      1159\n",
            "           1       0.88      0.82      0.85      1128\n",
            "           2       0.69      0.65      0.67      1219\n",
            "\n",
            "    accuracy                           0.75      3506\n",
            "   macro avg       0.76      0.76      0.76      3506\n",
            "weighted avg       0.76      0.75      0.76      3506\n",
            "\n"
          ]
        },
        {
          "output_type": "stream",
          "name": "stderr",
          "text": [
            "/usr/local/lib/python3.7/dist-packages/sklearn/utils/validation.py:1679: FutureWarning: Feature names only support names that are all strings. Got feature names with dtypes: ['tuple']. An error will be raised in 1.2.\n",
            "  FutureWarning,\n",
            "/usr/local/lib/python3.7/dist-packages/sklearn/utils/validation.py:1679: FutureWarning: Feature names only support names that are all strings. Got feature names with dtypes: ['tuple']. An error will be raised in 1.2.\n",
            "  FutureWarning,\n"
          ]
        }
      ]
    },
    {
      "cell_type": "code",
      "source": [
        "\n"
      ],
      "metadata": {
        "id": "XdlKdzpTyrj1"
      },
      "execution_count": 20,
      "outputs": []
    },
    {
      "cell_type": "code",
      "source": [
        ""
      ],
      "metadata": {
        "id": "6ISfmjBrzmgK"
      },
      "execution_count": null,
      "outputs": []
    }
  ]
}